{
 "cells": [
  {
   "cell_type": "code",
   "execution_count": 5,
   "id": "907a04b1",
   "metadata": {},
   "outputs": [],
   "source": [
    "import os\n",
    "import sys\n",
    "from model.Discriminator import FCDiscriminator\n",
    "sys.path.insert(1, os.path.join(sys.path[0], '../efficientvit'))\n",
    "from efficientvit.seg_model_zoo import create_seg_model\n"
   ]
  },
  {
   "cell_type": "code",
   "execution_count": 14,
   "id": "6a525e0f",
   "metadata": {},
   "outputs": [],
   "source": [
    "model = create_seg_model('b0','bdd',weight_url='./model/model_149.pth').cuda()\n",
    "D_model = FCDiscriminator(num_classes=128).cuda()"
   ]
  },
  {
   "cell_type": "code",
   "execution_count": 16,
   "id": "4889cf5c",
   "metadata": {},
   "outputs": [],
   "source": [
    "import torch\n",
    "bdd_img = cv2.imread('../00cef86b-d8d105b9.jpg')\n",
    "iadd_img = cv2.imread('../Record001_D_Record001_D_193_jpg.rf.cb7a286c3f10dddabed74732fa13b184.jpg')"
   ]
  },
  {
   "cell_type": "code",
   "execution_count": 38,
   "id": "666fa78e",
   "metadata": {},
   "outputs": [
    {
     "data": {
      "text/plain": [
       "torch.Size([1, 3, 720, 1280])"
      ]
     },
     "execution_count": 38,
     "metadata": {},
     "output_type": "execute_result"
    }
   ],
   "source": [
    "bdd_tensor.shape"
   ]
  },
  {
   "cell_type": "code",
   "execution_count": 19,
   "id": "6f6bf405",
   "metadata": {},
   "outputs": [],
   "source": [
    "from utils import resize"
   ]
  },
  {
   "cell_type": "code",
   "execution_count": 44,
   "id": "a1a7d972",
   "metadata": {},
   "outputs": [],
   "source": [
    "from torchvision.transforms import transforms as T\n",
    "transform = T.Compose([\n",
    "    T.ToTensor(),\n",
    "    T.Normalize(\n",
    "        mean=[0.485, 0.456, 0.406],\n",
    "        std=[0.229, 0.224, 0.225]\n",
    "    ),\n",
    "\n",
    "])\n",
    "bdd_tensor = transform(bdd_img)\n",
    "iadd_tensor = transform(iadd_img)\n"
   ]
  },
  {
   "cell_type": "code",
   "execution_count": 45,
   "id": "d0d36a72",
   "metadata": {},
   "outputs": [],
   "source": [
    "import torch\n",
    "bdd_tensor=bdd_tensor.unsqueeze(0).cuda()\n",
    "iadd_tensor=iadd_tensor.unsqueeze(0).cuda()"
   ]
  },
  {
   "cell_type": "code",
   "execution_count": 46,
   "id": "3e8fddf5",
   "metadata": {},
   "outputs": [],
   "source": [
    "bdd_tensor=resize(bdd_tensor,[512,512])\n",
    "iadd_tensor=resize(iadd_tensor,[512,512])"
   ]
  },
  {
   "cell_type": "code",
   "execution_count": 50,
   "id": "f0e277fc",
   "metadata": {},
   "outputs": [],
   "source": [
    "bdd_fea, bdd_out = model(bdd_tensor,None,'source')\n",
    "iadd_fea, iadd_out = model(iadd_tensor,None,'source')"
   ]
  },
  {
   "cell_type": "code",
   "execution_count": 51,
   "id": "98daae01",
   "metadata": {},
   "outputs": [
    {
     "data": {
      "text/plain": [
       "torch.Size([1, 128, 16, 16])"
      ]
     },
     "execution_count": 51,
     "metadata": {},
     "output_type": "execute_result"
    }
   ],
   "source": [
    "iadd_fea.shape"
   ]
  },
  {
   "cell_type": "code",
   "execution_count": 53,
   "id": "15124bc5",
   "metadata": {},
   "outputs": [
    {
     "data": {
      "text/plain": [
       "tensor([[[[-0.0061]]]], device='cuda:0', grad_fn=<ConvolutionBackward0>)"
      ]
     },
     "execution_count": 53,
     "metadata": {},
     "output_type": "execute_result"
    }
   ],
   "source": [
    "D_model(bdd_fea)"
   ]
  },
  {
   "cell_type": "code",
   "execution_count": 52,
   "id": "8c1684d1",
   "metadata": {},
   "outputs": [
    {
     "data": {
      "text/plain": [
       "tensor([[[[-0.0062]]]], device='cuda:0', grad_fn=<ConvolutionBackward0>)"
      ]
     },
     "execution_count": 52,
     "metadata": {},
     "output_type": "execute_result"
    }
   ],
   "source": [
    "D_model(iadd_fea)"
   ]
  },
  {
   "cell_type": "code",
   "execution_count": 70,
   "id": "aeee0681",
   "metadata": {},
   "outputs": [],
   "source": [
    "D_pretrained='./Dmodel_9.pth'\n",
    "D_model.load_state_dict(torch.load(D_pretrained))\n",
    "D_out_source=D_model(bdd_fea)"
   ]
  },
  {
   "cell_type": "code",
   "execution_count": 60,
   "id": "36182018",
   "metadata": {},
   "outputs": [],
   "source": [
    "D_out_target=D_model(iadd_fea)"
   ]
  },
  {
   "cell_type": "code",
   "execution_count": 69,
   "id": "95fc8fbf",
   "metadata": {},
   "outputs": [],
   "source": [
    "source_label = 0\n",
    "target_label = 1\n",
    "loss_D_target=0\n",
    "loss_D_source=0"
   ]
  },
  {
   "cell_type": "code",
   "execution_count": 65,
   "id": "a24dd7dd",
   "metadata": {},
   "outputs": [],
   "source": [
    "criterion_bce = torch.nn.MSELoss().to('cuda')\n",
    "\n",
    "loss_D_target += criterion_bce(D_out_target,torch.FloatTensor(D_out_target.data.size()).fill_(target_label).to('cuda'))\n"
   ]
  },
  {
   "cell_type": "code",
   "execution_count": 66,
   "id": "24d1bfa6",
   "metadata": {},
   "outputs": [
    {
     "data": {
      "text/plain": [
       "tensor(200.6456, device='cuda:0', grad_fn=<AddBackward0>)"
      ]
     },
     "execution_count": 66,
     "metadata": {},
     "output_type": "execute_result"
    }
   ],
   "source": [
    "loss_D_target"
   ]
  },
  {
   "cell_type": "code",
   "execution_count": 71,
   "id": "68b401ce",
   "metadata": {},
   "outputs": [],
   "source": [
    "loss_D_source += criterion_bce(D_out_source, torch.FloatTensor(D_out_source.data.size()).fill_(source_label).to('cuda'))\n"
   ]
  },
  {
   "cell_type": "code",
   "execution_count": 72,
   "id": "57e84a0e",
   "metadata": {},
   "outputs": [
    {
     "data": {
      "text/plain": [
       "tensor(292.4491, device='cuda:0', grad_fn=<AddBackward0>)"
      ]
     },
     "execution_count": 72,
     "metadata": {},
     "output_type": "execute_result"
    }
   ],
   "source": [
    "loss_D_source"
   ]
  },
  {
   "cell_type": "code",
   "execution_count": null,
   "id": "ffcb6eb8",
   "metadata": {},
   "outputs": [],
   "source": [
    " "
   ]
  }
 ],
 "metadata": {
  "kernelspec": {
   "display_name": "Python 3 (ipykernel)",
   "language": "python",
   "name": "python3"
  },
  "language_info": {
   "codemirror_mode": {
    "name": "ipython",
    "version": 3
   },
   "file_extension": ".py",
   "mimetype": "text/x-python",
   "name": "python",
   "nbconvert_exporter": "python",
   "pygments_lexer": "ipython3",
   "version": "3.9.12"
  }
 },
 "nbformat": 4,
 "nbformat_minor": 5
}
